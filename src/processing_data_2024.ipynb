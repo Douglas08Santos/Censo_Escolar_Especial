{
 "cells": [
  {
   "cell_type": "markdown",
   "id": "631fc05a-155a-4b68-9c1c-e03b12a3ca9d",
   "metadata": {},
   "source": [
    "# IMD1151 - CIÊNCIAS DE DADOS - T01 (2025.1)\n",
    "\n",
    "## 📊 Resultados do Censo Escolar 2024\n",
    "\n",
    "**Tema:**\n",
    "Números de alunos da Educação Básica na **Educação Especial** (Inclusiva ou Exclusiva)\n",
    "\n",
    "**Fonte:**  \n",
    "[gov.br - INEP - Censo Escolar 2024](https://www.gov.br/inep/pt-br/areas-de-atuacao/pesquisas-estatisticas-e-indicadores/censo-escolar/resultados)\n",
    "\n",
    "---\n",
    "\n",
    "**Aluno:** Douglas Alexandre dos Santos  \n",
    "**Matrícula:** 20210096853\n"
   ]
  },
  {
   "cell_type": "code",
   "execution_count": 1,
   "id": "a0dac458-b123-4555-94cb-504cfd81622c",
   "metadata": {},
   "outputs": [
    {
     "name": "stdout",
     "output_type": "stream",
     "text": [
      "<class 'pandas.core.frame.DataFrame'>\n",
      "RangeIndex: 215545 entries, 0 to 215544\n",
      "Columns: 426 entries, NU_ANO_CENSO to QT_TUR_MED_INT\n",
      "dtypes: object(426)\n",
      "memory usage: 700.5+ MB\n",
      "Informações do Dataset: None\n"
     ]
    }
   ],
   "source": [
    "import pandas as pd\n",
    "dataset = pd.read_csv('../data/microdados_ed_basica_2024.csv',\n",
    "                      encoding='latin-1', sep=';', dtype='unicode')\n",
    "print('Informações do Dataset: {}'.format(dataset.info()))"
   ]
  },
  {
   "cell_type": "markdown",
   "id": "922e1be9-e33b-43cf-87b2-33b657ac4b9e",
   "metadata": {},
   "source": [
    "## 🔍 Seleção de Colunas com Base no Dicionário de Dados\n",
    "\n",
    "Agora faremos a seleção de colunas que precisamos, com auxílio do dicionário de dados. Decidir escolher as colunas antes de qualquer tratamento dos dados, pois o numero excessivo de colunas poderia dificiltar esse tratamento:\n",
    "\n",
    "---\n",
    "\n",
    "### 📍 Identificação Geográfica e Escolar\n",
    "\n",
    "Colunas escolhidas para filtrar os dados por localização.\n",
    "\n",
    "- `NO_REGIAO` — Nome da região geográfica  \n",
    "- `NO_UF` — Nome da Unidade da Federação  \n",
    "- `SG_UF` — Sigla da Unidade da Federação\n",
    "- `NO_ENTIDADE` - Nome da Escola\n",
    "\n",
    "---\n",
    "\n",
    "### 🏫 Situação de Funcionamento da Escola\n",
    "\n",
    "Coluna escolhida para saber se a instituição está em funcionnamento.\n",
    "\n",
    "- `TP_SITUACAO_FUNCIONAMENTO` — Situação de funcionamento:  \n",
    "    - 1 - Em atividade\n",
    "    - 2 - Paralisada\n",
    "    - 3 - Extinta - no Ano do Censo\n",
    "    - 4 - Extinta em Anos Anteriores\n",
    "\n",
    "---\n",
    "\n",
    "### 🏛️ Vínculo com Órgãos Públicos\n",
    "\n",
    "Coluna que indica se a escola é pública.\n",
    "\n",
    "- `IN_VINCULO_SECRETARIA_EDUCACAO` — Secretaria de Educação/MEC  \n",
    "- `IN_VINCULO_SEGURANCA_PUBLICA` — Segurança Pública/Forças Armadas  \n",
    "- `IN_VINCULO_SECRETARIA_SAUDE` — Secretaria de Saúde  \n",
    "- `IN_VINCULO_OUTRO_ORGAO` — Outro órgão público\n",
    "    - 0 - Não\n",
    "    - 1 - Sim\n",
    "    - **Não aplicável para escolas privadas**\n",
    "\n",
    "---\n",
    "\n",
    "### 🏢 Mantenedora da Escola Privada\n",
    "\n",
    "Colunas que indicam se a escola é privada.\n",
    "\n",
    "- `IN_MANT_ESCOLA_PRIVADA_EMP` — Empresa ou grupo empresarial  \n",
    "- `IN_MANT_ESCOLA_PRIVADA_ONG` — Organização Não Governamental  \n",
    "- `IN_MANT_ESCOLA_PRIVADA_OSCIP` — Organização da Sociedade Civil (Oscip)  \n",
    "- `IN_MANT_ESCOLA_PRIV_ONG_OSCIP` — ONG ou Oscip  \n",
    "- `IN_MANT_ESCOLA_PRIVADA_SIND` — Sindicatos/Associações/Cooperativas  \n",
    "- `IN_MANT_ESCOLA_PRIVADA_SIST_S` — Sistema S (Sesi, Senai, etc.)  \n",
    "- `IN_MANT_ESCOLA_PRIVADA_S_FINS` — Instituições sem fins lucrativos\n",
    "    - 0 - Não\n",
    "    - 1 - Sim\n",
    "    - **Não aplicável para escolas públicas**\n",
    "\n",
    "---\n",
    "\n",
    "### ♿ Educação Especial\n",
    "\n",
    "Colunas que indicam dados sobre a educação especial.\n",
    "\n",
    "- `IN_ESP` — Educação Especial (Inclusiva ou Exclusiva)  \n",
    "- `IN_ESP_CC` — Educação Especial Inclusiva (Classes Comuns)  \n",
    "- `IN_ESP_CE` — Educação Especial Exclusiva (Classes Especiais)\n",
    "    - 0 - Não\n",
    "    - 1 - Sim\n",
    "---\n",
    "\n",
    "### 🎓 Matrículas\n",
    "\n",
    "Colunas que mostra a quantidade de matriculas realizadas nas escolas.\n",
    "\n",
    "- `QT_MAT_BAS` — Total de Matrículas da Educação Básica\n",
    "- `QT_MAT_ESP` — Educação Especial  \n",
    "- `QT_MAT_ESP_CC` — Inclusiva  \n",
    "- `QT_MAT_ESP_CE` — Exclusiva  \n",
    "\n",
    "---\n",
    "\n",
    "### 🧑‍🏫 Turmas\n",
    "\n",
    "Colunas que mostra a quantidade de turmas de educação básica e especial, para comparações.\n",
    "\n",
    "- `QT_TUR_BAS` - Total de Turmas da Educação Básica\n",
    "- `QT_TUR_ESP` — Total de Turmas da Educação Especial  \n",
    "- `QT_TUR_ESP_CC` — Inclusiva  \n",
    "- `QT_TUR_ESP_CE` — Exclusiva  \n",
    "\n",
    "---\n",
    "\n",
    "⚠️ *Em dúvida sobre o uso das variáveis de número de matrículas: \\\n",
    "(`QT_MAT_ESP` = `QT_MAT_ESP_CC` +`QT_MAT_ESP_CE`).*\n",
    "\n"
   ]
  },
  {
   "cell_type": "code",
   "execution_count": 2,
   "id": "26d978c3-9c7b-4278-a18d-33ebf1210ea4",
   "metadata": {},
   "outputs": [
    {
     "name": "stdout",
     "output_type": "stream",
     "text": [
      "Depois de escolher as colunas importantes: 27\n"
     ]
    }
   ],
   "source": [
    "important_columns = ['NO_REGIAO', 'NO_UF', 'SG_UF', 'NO_ENTIDADE',\n",
    "                     'TP_SITUACAO_FUNCIONAMENTO',\n",
    "                     \n",
    "                     'IN_VINCULO_SECRETARIA_EDUCACAO', 'IN_VINCULO_SEGURANCA_PUBLICA', \n",
    "                     'IN_VINCULO_SECRETARIA_SAUDE', 'IN_VINCULO_OUTRO_ORGAO',\n",
    "                     \n",
    "                     'IN_MANT_ESCOLA_PRIVADA_EMP', 'IN_MANT_ESCOLA_PRIVADA_ONG', \n",
    "                     'IN_MANT_ESCOLA_PRIVADA_OSCIP', 'IN_MANT_ESCOLA_PRIV_ONG_OSCIP',\n",
    "                     'IN_MANT_ESCOLA_PRIVADA_SIND', 'IN_MANT_ESCOLA_PRIVADA_SIST_S', \n",
    "                     'IN_MANT_ESCOLA_PRIVADA_S_FINS',\n",
    "                     \n",
    "                     'IN_ESP', 'IN_ESP_CC', 'IN_ESP_CE', \n",
    "                     'QT_MAT_BAS', 'QT_MAT_ESP', 'QT_MAT_ESP_CC', 'QT_MAT_ESP_CE',\n",
    "                     'QT_TUR_BAS', 'QT_TUR_ESP', 'QT_TUR_ESP_CC', 'QT_TUR_ESP_CE']\n",
    "dataset = dataset[important_columns]\n",
    "print('Depois de escolher as colunas importantes: {}'.format(len(dataset.columns)))"
   ]
  },
  {
   "cell_type": "markdown",
   "id": "06a30c56-668a-4b79-9ba9-dbd9611c235e",
   "metadata": {},
   "source": [
    "### 🎯 Filtragem por Situação de Funcionamento (`TP_SITUACAO_FUNCIONAMENTO`)\n",
    "\n",
    "Vamos manter no registro apenas as escolas **em atividade**, com base na variável `TP_SITUACAO_FUNCIONAMENTO`.\n",
    "- **1** → Em Atividade ✅  \n",
    "- **2** → Paralisada  \n",
    "- **3** → Extinta (ano do Censo)  \n",
    "- **4** → Extinta em Anos Anteriores  \n",
    "\n",
    "🔍 **Critério de filtro:**  \n",
    "Remover todas as escolas cujo valor de `TP_SITUACAO_FUNCIONAMENTO` seja **diferente de 1**."
   ]
  },
  {
   "cell_type": "code",
   "execution_count": 3,
   "id": "e51f6e78-643f-48af-9ce2-093cd313e5df",
   "metadata": {},
   "outputs": [
    {
     "name": "stdout",
     "output_type": "stream",
     "text": [
      "Depois de filtrar por escolas ativas: 181065\n"
     ]
    }
   ],
   "source": [
    "# Instituições em atividade\n",
    "dataset = dataset[dataset['TP_SITUACAO_FUNCIONAMENTO'] == '1']\n",
    "# Depois do filtro\n",
    "print('Depois de filtrar por escolas ativas: {}'.format(len(dataset)))"
   ]
  },
  {
   "cell_type": "code",
   "execution_count": 8,
   "id": "f1e41b3d-0759-4243-96af-ddfe5a7530e8",
   "metadata": {},
   "outputs": [
    {
     "data": {
      "text/plain": [
       "NO_REGIAO                                            Norte\n",
       "NO_UF                                             Rondônia\n",
       "SG_UF                                                   RO\n",
       "NO_ENTIDADE                       CEEJA LUIZ VAZ DE CAMOES\n",
       "TP_SITUACAO_FUNCIONAMENTO                                1\n",
       "IN_VINCULO_SECRETARIA_EDUCACAO                           1\n",
       "IN_VINCULO_SEGURANCA_PUBLICA                             0\n",
       "IN_VINCULO_SECRETARIA_SAUDE                              0\n",
       "IN_VINCULO_OUTRO_ORGAO                                   0\n",
       "IN_MANT_ESCOLA_PRIVADA_EMP                             NaN\n",
       "IN_MANT_ESCOLA_PRIVADA_ONG                             NaN\n",
       "IN_MANT_ESCOLA_PRIVADA_OSCIP                           NaN\n",
       "IN_MANT_ESCOLA_PRIV_ONG_OSCIP                          NaN\n",
       "IN_MANT_ESCOLA_PRIVADA_SIND                            NaN\n",
       "IN_MANT_ESCOLA_PRIVADA_SIST_S                          NaN\n",
       "IN_MANT_ESCOLA_PRIVADA_S_FINS                          NaN\n",
       "IN_ESP                                                   1\n",
       "IN_ESP_CC                                                1\n",
       "IN_ESP_CE                                                0\n",
       "QT_MAT_BAS                                             131\n",
       "QT_MAT_ESP                                               2\n",
       "QT_MAT_ESP_CC                                            2\n",
       "QT_MAT_ESP_CE                                            0\n",
       "QT_TUR_BAS                                               4\n",
       "QT_TUR_ESP                                               2\n",
       "QT_TUR_ESP_CC                                            2\n",
       "QT_TUR_ESP_CE                                            0\n",
       "Name: 1, dtype: object"
      ]
     },
     "execution_count": 8,
     "metadata": {},
     "output_type": "execute_result"
    }
   ],
   "source": [
    "dataset.iloc[1]"
   ]
  },
  {
   "cell_type": "markdown",
   "id": "2464502f-119e-4e9f-9ce8-637bc09b7686",
   "metadata": {},
   "source": [
    "### 🧹 Remoção de Coluna Desnecessária\n",
    "\n",
    "A coluna `TP_SITUACAO_FUNCIONAMENTO` foi usada apenas para filtragem e **não será mais necessária** na análise.\n",
    "\n",
    "🔻 **Ação:** Remover essa coluna do DataFrame."
   ]
  },
  {
   "cell_type": "code",
   "execution_count": 5,
   "id": "da339baa-03db-4148-b2c2-6d85b3b8a4e5",
   "metadata": {},
   "outputs": [],
   "source": [
    "dataset.drop(['TP_SITUACAO_FUNCIONAMENTO'], axis='columns', inplace=True)"
   ]
  },
  {
   "cell_type": "markdown",
   "id": "6bdfb396-92be-428b-9dfa-d59becd135c7",
   "metadata": {},
   "source": [
    "### 🕵️‍♂️ Verificação de Dados Ausentes\n",
    "\n",
    "Vamos identificar escolas cujo número de matrículas na **Educação Básica** (`QT_MAT_BAS`) está **nulo (NaN)**.\n",
    "\n",
    "🔍 **Objetivo:** Encontrar registros com valores ausentes nessa coluna para avaliar a necessidade de limpeza ou tratamento."
   ]
  },
  {
   "cell_type": "code",
   "execution_count": 6,
   "id": "16333be6-ddbd-4785-b55e-93327d5ededd",
   "metadata": {},
   "outputs": [
    {
     "name": "stdout",
     "output_type": "stream",
     "text": [
      "Número de escolas com QT_MAT_BAS não nulo: 179286\n"
     ]
    }
   ],
   "source": [
    "dataset = dataset[~dataset['QT_MAT_BAS'].isnull()]\n",
    "print('Número de escolas com QT_MAT_BAS não nulo: {}'.format(len(dataset)))"
   ]
  },
  {
   "cell_type": "markdown",
   "id": "3d5aba48-1222-4786-8c4b-65295637d980",
   "metadata": {},
   "source": [
    "### 🏫 Classificação das Escolas: Públicas ou Privadas\n",
    "\n",
    "Podemos classificar as escolas como **públicas ou privadas** com base na presença (ou ausência) de valores nas seguintes colunas:\n",
    "\n",
    "#### 🏛️ Indicadores de Escolas **Públicas**\n",
    "Essas colunas **não se aplicam a escolas privadas** — se estiverem com valor **nulo (NaN)**, a escola é **privada**:\n",
    "\n",
    "- `IN_VINCULO_SECRETARIA_EDUCACAO`  \n",
    "- `IN_VINCULO_SEGURANCA_PUBLICA`  \n",
    "- `IN_VINCULO_SECRETARIA_SAUDE`  \n",
    "- `IN_VINCULO_OUTRO_ORGAO`  \n",
    "\n",
    "#### 🏢 Indicadores de Escolas **Privadas**\n",
    "Essas colunas **não se aplicam a escolas públicas** — se estiverem com valor **nulo (NaN)**, a escola é **pública**:\n",
    "\n",
    "- `IN_MANT_ESCOLA_PRIVADA_EMP`  \n",
    "- `IN_MANT_ESCOLA_PRIVADA_ONG`  \n",
    "- `IN_MANT_ESCOLA_PRIVADA_OSCIP`  \n",
    "- `IN_MANT_ESCOLA_PRIV_ONG_OSCIP`  \n",
    "- `IN_MANT_ESCOLA_PRIVADA_SIND`  \n",
    "- `IN_MANT_ESCOLA_PRIVADA_SIST_S`  \n",
    "- `IN_MANT_ESCOLA_PRIVADA_S_FINS`  \n",
    "\n",
    "🔍 **Observação:**  \n",
    "Essa lógica se baseia na estrutura dos dados do Censo Escolar, onde a presença ou ausência dessas informações indica o tipo de mantenedora da escola.\n",
    "\n",
    "A partir da classificação baseada nos campos de vínculos e mantenedoras, podemos identificar e contar quantas escolas são **públicas** e quantas são **privadas**.\n",
    "\n",
    "#### 🔎 Critérios:\n",
    "- **Escolas Públicas:** possuem dados nas colunas de vínculo com órgãos públicos.\n",
    "- **Escolas Privadas:** possuem dados nas colunas de mantenedoras privadas."
   ]
  },
  {
   "cell_type": "code",
   "execution_count": 7,
   "id": "8e64754d-05af-45ec-9f2e-4fe502ee0ecf",
   "metadata": {},
   "outputs": [
    {
     "name": "stdout",
     "output_type": "stream",
     "text": [
      "Número escolas públicas: 136844\n",
      "Número escolas privadas: 42442\n"
     ]
    }
   ],
   "source": [
    "public_schools = dataset[dataset['IN_MANT_ESCOLA_PRIVADA_EMP'].isnull()]\n",
    "private_schools = dataset[~dataset['IN_MANT_ESCOLA_PRIVADA_EMP'].isnull()]\n",
    "print('Número escolas públicas: {}'.format(len(public_schools)))\n",
    "print('Número escolas privadas: {}'.format(len(private_schools)))"
   ]
  },
  {
   "cell_type": "markdown",
   "id": "0026a14c-1997-4101-9ed3-b16f4712af34",
   "metadata": {},
   "source": [
    "### 🧹 Remoção de Colunas Utilizadas na Classificação\n",
    "\n",
    "As colunas utilizadas para identificar se uma escola é **pública** ou **privada** já cumpriram seu papel na análise.  \n",
    "Agora que temos a coluna `TP_ESCOLA` com a classificação definida, podemos remover essas variáveis para limpar o DataFrame.\n",
    "\n",
    "#### 🏢 Colunas de mantenedoras privadas:\n",
    "- `IN_MANT_ESCOLA_PRIVADA_EMP`  \n",
    "- `IN_MANT_ESCOLA_PRIVADA_ONG`  \n",
    "- `IN_MANT_ESCOLA_PRIVADA_OSCIP`  \n",
    "- `IN_MANT_ESCOLA_PRIV_ONG_OSCIP`  \n",
    "- `IN_MANT_ESCOLA_PRIVADA_SIND`  \n",
    "- `IN_MANT_ESCOLA_PRIVADA_SIST_S`  \n",
    "- `IN_MANT_ESCOLA_PRIVADA_S_FINS`\n",
    "\n",
    "#### 🏛️ Colunas de vínculo com órgãos públicos (públicas):\n",
    "- `IN_VINCULO_SECRETARIA_EDUCACAO`  \n",
    "- `IN_VINCULO_SEGURANCA_PUBLICA`  \n",
    "- `IN_VINCULO_SECRETARIA_SAUDE`  \n",
    "- `IN_VINCULO_OUTRO_ORGAO`  "
   ]
  },
  {
   "cell_type": "code",
   "execution_count": 8,
   "id": "7df84be4-f0b7-4466-97c1-3e504d4f133d",
   "metadata": {},
   "outputs": [
    {
     "name": "stderr",
     "output_type": "stream",
     "text": [
      "/tmp/ipykernel_7098/2138659712.py:7: SettingWithCopyWarning: \n",
      "A value is trying to be set on a copy of a slice from a DataFrame\n",
      "\n",
      "See the caveats in the documentation: https://pandas.pydata.org/pandas-docs/stable/user_guide/indexing.html#returning-a-view-versus-a-copy\n",
      "  public_schools.drop(vinculos, axis='columns', inplace=True)\n",
      "/tmp/ipykernel_7098/2138659712.py:8: SettingWithCopyWarning: \n",
      "A value is trying to be set on a copy of a slice from a DataFrame\n",
      "\n",
      "See the caveats in the documentation: https://pandas.pydata.org/pandas-docs/stable/user_guide/indexing.html#returning-a-view-versus-a-copy\n",
      "  private_schools.drop(vinculos, axis='columns', inplace=True)\n"
     ]
    }
   ],
   "source": [
    "vinculos = ['IN_MANT_ESCOLA_PRIVADA_EMP', 'IN_MANT_ESCOLA_PRIVADA_ONG',\n",
    "            'IN_MANT_ESCOLA_PRIVADA_OSCIP', 'IN_MANT_ESCOLA_PRIV_ONG_OSCIP',\n",
    "            'IN_MANT_ESCOLA_PRIVADA_SIND', 'IN_MANT_ESCOLA_PRIVADA_SIST_S',\n",
    "            'IN_MANT_ESCOLA_PRIVADA_S_FINS', 'IN_VINCULO_SECRETARIA_EDUCACAO',\n",
    "            'IN_VINCULO_SEGURANCA_PUBLICA', 'IN_VINCULO_SECRETARIA_SAUDE', \n",
    "            'IN_VINCULO_OUTRO_ORGAO']\n",
    "public_schools.drop(vinculos, axis='columns', inplace=True)\n",
    "private_schools.drop(vinculos, axis='columns', inplace=True)"
   ]
  },
  {
   "cell_type": "markdown",
   "id": "f12685fa-2535-4bac-8dea-076ea6f06631",
   "metadata": {},
   "source": [
    "### 💾 Exportação das Tabelas Tratadas\n",
    "\n",
    "Agora que o **tratamento dos dados foi concluído**, podemos **exportar** as tabelas separadas de escolas **públicas** e **privadas** para análises futuras.\n",
    "\n",
    "🔄 **Objetivo:** Salvar os dados limpos e classificados em arquivos `.csv` para facilitar o acesso e a reutilização."
   ]
  },
  {
   "cell_type": "code",
   "execution_count": 9,
   "id": "07c20b77-52fe-4b0f-9955-772cb6c9c511",
   "metadata": {},
   "outputs": [],
   "source": [
    "public_schools.to_csv('../data/public_school_Brazil_2024.csv', sep=';', encoding='utf-8', index=False)\n",
    "private_schools.to_csv('../data/private_school_Brazil_2024.csv', sep=';', encoding='utf-8', index=False)"
   ]
  }
 ],
 "metadata": {
  "kernelspec": {
   "display_name": "Python 3 (ipykernel)",
   "language": "python",
   "name": "python3"
  },
  "language_info": {
   "codemirror_mode": {
    "name": "ipython",
    "version": 3
   },
   "file_extension": ".py",
   "mimetype": "text/x-python",
   "name": "python",
   "nbconvert_exporter": "python",
   "pygments_lexer": "ipython3",
   "version": "3.10.12"
  }
 },
 "nbformat": 4,
 "nbformat_minor": 5
}
